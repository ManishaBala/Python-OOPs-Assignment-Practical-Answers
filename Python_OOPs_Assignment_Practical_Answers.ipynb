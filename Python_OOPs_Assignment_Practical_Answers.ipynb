{
  "nbformat": 4,
  "nbformat_minor": 0,
  "metadata": {
    "colab": {
      "provenance": []
    },
    "kernelspec": {
      "name": "python3",
      "display_name": "Python 3"
    },
    "language_info": {
      "name": "python"
    }
  },
  "cells": [
    {
      "cell_type": "markdown",
      "source": [
        "#Python OOPs Assignment Practical Answers"
      ],
      "metadata": {
        "id": "OOjJh4V1QJwZ"
      }
    },
    {
      "cell_type": "markdown",
      "source": [
        "###1. Create a parent class Animal with a method speak() that prints a generic message. Create a child class Dog that overrides the speak() method to print \"Bark!\"."
      ],
      "metadata": {
        "id": "C2xwkio9QS7v"
      }
    },
    {
      "cell_type": "code",
      "source": [
        "# Parent class\n",
        "class Animal:\n",
        "    def speak(self):\n",
        "        print(\"This animal makes a sound.\")\n",
        "\n",
        "# Child class\n",
        "class Dog(Animal):\n",
        "    def speak(self):\n",
        "        print(\"Bark!\")\n",
        "\n",
        "\n"
      ],
      "metadata": {
        "id": "Kh_upsMRQjXI"
      },
      "execution_count": 1,
      "outputs": []
    },
    {
      "cell_type": "code",
      "source": [
        "generic_animal = Animal()\n",
        "generic_animal.speak()\n",
        "\n",
        "dog = Dog()\n",
        "dog.speak()"
      ],
      "metadata": {
        "colab": {
          "base_uri": "https://localhost:8080/"
        },
        "id": "b1n-HwS4Q7ek",
        "outputId": "96619f81-95e8-4c44-f7ca-f7edb43457c1"
      },
      "execution_count": 2,
      "outputs": [
        {
          "output_type": "stream",
          "name": "stdout",
          "text": [
            "This animal makes a sound.\n",
            "Bark!\n"
          ]
        }
      ]
    },
    {
      "cell_type": "markdown",
      "source": [
        "###2. Write a program to create an abstract class Shape with a method area(). Derive classes Circle and Rectangle from it and implement the area() method in both."
      ],
      "metadata": {
        "id": "FzwdiZJqRQow"
      }
    },
    {
      "cell_type": "code",
      "source": [
        "from abc import ABC, abstractmethod\n",
        "import math\n",
        "\n",
        "# Abstract base class\n",
        "class Shape(ABC):\n",
        "\n",
        "    @abstractmethod\n",
        "    def area(self):\n",
        "        pass\n",
        "\n",
        "# Derived class: Circle\n",
        "class Circle(Shape):\n",
        "    def __init__(self, radius):\n",
        "        self.radius = radius\n",
        "\n",
        "    def area(self):\n",
        "        return math.pi * self.radius ** 2\n",
        "\n",
        "# Derived class: Rectangle\n",
        "class Rectangle(Shape):\n",
        "    def __init__(self, width, height):\n",
        "        self.width = width\n",
        "        self.height = height\n",
        "\n",
        "    def area(self):\n",
        "        return self.width * self.height\n",
        "\n",
        "\n",
        "circle = Circle(5)\n",
        "rectangle = Rectangle(4, 6)\n",
        "\n",
        "print(\"Circle area:\", circle.area())\n",
        "print(\"Rectangle area:\", rectangle.area())\n"
      ],
      "metadata": {
        "colab": {
          "base_uri": "https://localhost:8080/"
        },
        "id": "mqHFaS8iHh_j",
        "outputId": "90c9eab9-5846-40ea-ef68-6531ff9e99db"
      },
      "execution_count": 3,
      "outputs": [
        {
          "output_type": "stream",
          "name": "stdout",
          "text": [
            "Circle area: 78.53981633974483\n",
            "Rectangle area: 24\n"
          ]
        }
      ]
    },
    {
      "cell_type": "markdown",
      "source": [
        "###3.  Implement a multi-level inheritance scenario where a class Vehicle has an attribute type. Derive a class Car and further derive a class ElectricCar that adds a battery attribute."
      ],
      "metadata": {
        "id": "fEt33th6IcGk"
      }
    },
    {
      "cell_type": "code",
      "source": [
        "# Base class: Vehicle\n",
        "class Vehicle:\n",
        "    def __init__(self, vehicle_type):\n",
        "        self.vehicle_type = vehicle_type\n",
        "\n",
        "    def display_type(self):\n",
        "        print(f\"Vehicle Type: {self.vehicle_type}\")\n",
        "\n",
        "\n",
        "# Derived class: Car\n",
        "class Car(Vehicle):\n",
        "    def __init__(self, vehicle_type, brand):\n",
        "        # Calling the constructor of the base class\n",
        "        super().__init__(vehicle_type)\n",
        "        self.brand = brand\n",
        "\n",
        "    def display_info(self):\n",
        "        self.display_type()\n",
        "        print(f\"Car Brand: {self.brand}\")\n",
        "\n",
        "\n",
        "# Further derived class: ElectricCar\n",
        "class ElectricCar(Car):\n",
        "    def __init__(self, vehicle_type, brand, battery_capacity):\n",
        "        # Calling the constructor of the Car class\n",
        "        super().__init__(vehicle_type, brand)\n",
        "        self.battery_capacity = battery_capacity\n",
        "\n",
        "    def display_battery_info(self):\n",
        "        self.display_info()\n",
        "        print(f\"Battery Capacity: {self.battery_capacity} kWh\")\n",
        "\n",
        "electric_car = ElectricCar(\"Electric\", \"Tesla\", 75)\n",
        "electric_car.display_battery_info()\n",
        "\n"
      ],
      "metadata": {
        "colab": {
          "base_uri": "https://localhost:8080/"
        },
        "id": "MizgDSaYIkBb",
        "outputId": "1a08fb15-5fa5-4398-8b26-6ff7b84097e5"
      },
      "execution_count": 6,
      "outputs": [
        {
          "output_type": "stream",
          "name": "stdout",
          "text": [
            "Vehicle Type: Electric\n",
            "Car Brand: Tesla\n",
            "Battery Capacity: 75 kWh\n"
          ]
        }
      ]
    },
    {
      "cell_type": "markdown",
      "source": [
        "###4. Demonstrate polymorphism by creating a base class Bird with a method fly(). Create two derived classes Sparrow and Penguin that override the fly() method.\n"
      ],
      "metadata": {
        "id": "kIGjXjj2I8Mb"
      }
    },
    {
      "cell_type": "code",
      "source": [
        "# Base class: Bird\n",
        "class Bird:\n",
        "    def fly(self):\n",
        "        print(\"This bird flies in the sky.\")\n",
        "\n",
        "# Derived class: Sparrow\n",
        "class Sparrow(Bird):\n",
        "    def fly(self):\n",
        "        print(\"The sparrow flies at great speed.\")\n",
        "\n",
        "# Derived class: Penguin\n",
        "class Penguin(Bird):\n",
        "    def fly(self):\n",
        "        print(\"Penguins cannot fly. They swim instead.\")\n",
        "\n",
        "# Example usage\n",
        "def test_flying(bird: Bird):\n",
        "    bird.fly()\n",
        "\n",
        "\n",
        "sparrow = Sparrow()\n",
        "penguin = Penguin()\n",
        "\n",
        "\n",
        "test_flying(sparrow)\n",
        "test_flying(penguin)"
      ],
      "metadata": {
        "colab": {
          "base_uri": "https://localhost:8080/"
        },
        "id": "uEIHyWFLJBrj",
        "outputId": "5771985e-9981-4a4d-9cb0-99963811a777"
      },
      "execution_count": 7,
      "outputs": [
        {
          "output_type": "stream",
          "name": "stdout",
          "text": [
            "The sparrow flies at great speed.\n",
            "Penguins cannot fly. They swim instead.\n"
          ]
        }
      ]
    },
    {
      "cell_type": "markdown",
      "source": [
        "###5. Write a program to demonstrate encapsulation by creating a class BankAccount with private attributes balance and methods to deposit, withdraw, and check balance"
      ],
      "metadata": {
        "id": "sBlN0GjmJQ4y"
      }
    },
    {
      "cell_type": "code",
      "source": [
        "class BankAccount:\n",
        "    def __init__(self, initial_balance):\n",
        "        # Private attribute\n",
        "        self.__balance = initial_balance\n",
        "\n",
        "    # Method to deposit money into the account\n",
        "    def deposit(self, amount):\n",
        "        if amount > 0:\n",
        "            self.__balance += amount\n",
        "            print(f\"Deposited {amount}. Current balance: {self.__balance}\")\n",
        "        else:\n",
        "            print(\"Deposit amount must be positive.\")\n",
        "\n",
        "    # Method to withdraw money from the account\n",
        "    def withdraw(self, amount):\n",
        "        if amount > 0 and amount <= self.__balance:\n",
        "            self.__balance -= amount\n",
        "            print(f\"Withdrew {amount}. Current balance: {self.__balance}\")\n",
        "        elif amount > self.__balance:\n",
        "            print(\"Insufficient funds.\")\n",
        "        else:\n",
        "            print(\"Withdrawal amount must be positive.\")\n",
        "\n",
        "    # Method to check the current balance\n",
        "    def check_balance(self):\n",
        "        print(f\"Current balance: {self.__balance}\")\n",
        "\n"
      ],
      "metadata": {
        "id": "UW_ikJz8JVDz"
      },
      "execution_count": 8,
      "outputs": []
    },
    {
      "cell_type": "code",
      "source": [
        "account = BankAccount(1000)\n",
        "\n",
        "# Checking balance\n",
        "account.check_balance()\n",
        "\n",
        "# Depositing money\n",
        "account.deposit(500)\n",
        "\n",
        "# Withdrawing money\n",
        "account.withdraw(300)\n",
        "\n",
        "# Trying to withdraw more than the available balance\n",
        "account.withdraw(1500)\n",
        "\n",
        "# Checking balance after transactions\n",
        "account.check_balance()"
      ],
      "metadata": {
        "colab": {
          "base_uri": "https://localhost:8080/"
        },
        "id": "VxUiFbmbJdku",
        "outputId": "c0273337-fe4a-40e0-de64-b50eaa00ed24"
      },
      "execution_count": 9,
      "outputs": [
        {
          "output_type": "stream",
          "name": "stdout",
          "text": [
            "Current balance: 1000\n",
            "Deposited 500. Current balance: 1500\n",
            "Withdrew 300. Current balance: 1200\n",
            "Insufficient funds.\n",
            "Current balance: 1200\n"
          ]
        }
      ]
    },
    {
      "cell_type": "markdown",
      "source": [
        "###6. Demonstrate runtime polymorphism using a method play() in a base class Instrument. Derive classes Guitar and Piano that implement their own version of play()."
      ],
      "metadata": {
        "id": "r2QX9DnFJsiT"
      }
    },
    {
      "cell_type": "code",
      "source": [
        "# Base class: Instrument\n",
        "class Instrument:\n",
        "    def play(self):\n",
        "        print(\"Playing an instrument\")\n",
        "\n",
        "# Derived class: Guitar\n",
        "class Guitar(Instrument):\n",
        "    def play(self):\n",
        "        print(\"Strumming the guitar\")\n",
        "\n",
        "# Derived class: Piano\n",
        "class Piano(Instrument):\n",
        "    def play(self):\n",
        "        print(\"Playing the piano\")\n",
        "\n",
        "# Function to demonstrate runtime polymorphism\n",
        "def demonstrate_play(instrument: Instrument):\n",
        "    instrument.play()\n",
        "\n",
        "# Example usage\n",
        "guitar = Guitar()\n",
        "piano = Piano()\n",
        "\n",
        "# Demonstrating runtime polymorphism\n",
        "demonstrate_play(guitar)\n",
        "demonstrate_play(piano)\n"
      ],
      "metadata": {
        "colab": {
          "base_uri": "https://localhost:8080/"
        },
        "id": "s_Wfd9b2J_up",
        "outputId": "0ea51463-3699-45c9-e9d4-bac41583aa79"
      },
      "execution_count": 11,
      "outputs": [
        {
          "output_type": "stream",
          "name": "stdout",
          "text": [
            "Strumming the guitar\n",
            "Playing the piano\n"
          ]
        }
      ]
    },
    {
      "cell_type": "markdown",
      "source": [
        "###7  Create a class MathOperations with a class method add_numbers() to add two numbers and a static method subtract_numbers() to subtract two numbers."
      ],
      "metadata": {
        "id": "kdn8ySpFKH0K"
      }
    },
    {
      "cell_type": "code",
      "source": [
        "class MathOperations:\n",
        "\n",
        "    # Class method to add two numbers\n",
        "    @classmethod\n",
        "    def add_numbers(cls, a, b):\n",
        "        return a + b\n",
        "\n",
        "    # Static method to subtract two numbers\n",
        "    @staticmethod\n",
        "    def subtract_numbers(a, b):\n",
        "        return a - b\n",
        "\n",
        "# Example usage\n",
        "result_add = MathOperations.add_numbers(5, 3)  # Class method\n",
        "result_subtract = MathOperations.subtract_numbers(5, 3)  # Static method\n",
        "\n",
        "# Display results\n",
        "print(f\"Sum: {result_add}\")\n",
        "print(f\"Difference: {result_subtract}\")\n"
      ],
      "metadata": {
        "colab": {
          "base_uri": "https://localhost:8080/"
        },
        "id": "kbm6AUSYKP0a",
        "outputId": "4668de3e-a735-42b7-a392-a3989fd513ce"
      },
      "execution_count": 12,
      "outputs": [
        {
          "output_type": "stream",
          "name": "stdout",
          "text": [
            "Sum: 8\n",
            "Difference: 2\n"
          ]
        }
      ]
    },
    {
      "cell_type": "markdown",
      "source": [
        "###8.  Implement a class Person with a class method to count the total number of persons created."
      ],
      "metadata": {
        "id": "Ktua9im7KjDq"
      }
    },
    {
      "cell_type": "code",
      "source": [
        "class Person:\n",
        "    # Class attribute to count the number of persons created\n",
        "    total_persons = 0\n",
        "\n",
        "    # Constructor to initialize name and age\n",
        "    def __init__(self, name, age):\n",
        "        self.name = name\n",
        "        self.age = age\n",
        "        # Increment total persons when a new person is created\n",
        "        Person.total_persons += 1\n",
        "\n",
        "    # Class method to return the total number of persons\n",
        "    @classmethod\n",
        "    def count_persons(cls):\n",
        "        return cls.total_persons\n",
        "\n",
        "# Example usage\n",
        "person1 = Person(\"Alice\", 30)\n",
        "person2 = Person(\"Bob\", 25)\n",
        "person3 = Person(\"Charlie\", 35)\n",
        "\n",
        "# Calling the class method to get the count of persons created\n",
        "print(f\"Total number of persons created: {Person.count_persons()}\")\n"
      ],
      "metadata": {
        "colab": {
          "base_uri": "https://localhost:8080/"
        },
        "id": "ZrwHHCAIKms7",
        "outputId": "3a402a90-7620-45e7-b732-4fbd692a9321"
      },
      "execution_count": 13,
      "outputs": [
        {
          "output_type": "stream",
          "name": "stdout",
          "text": [
            "Total number of persons created: 3\n"
          ]
        }
      ]
    },
    {
      "cell_type": "markdown",
      "source": [
        "###9. Write a class Fraction with attributes numerator and denominator. Override the str method to display the fraction as \"numerator/denominator\"."
      ],
      "metadata": {
        "id": "dyh_B-uVKtoq"
      }
    },
    {
      "cell_type": "code",
      "source": [
        "class Fraction:\n",
        "    def __init__(self, numerator, denominator):\n",
        "        self.numerator = numerator\n",
        "        self.denominator = denominator\n",
        "\n",
        "    # Overriding the __str__ method to return the fraction as \"numerator/denominator\"\n",
        "    def __str__(self):\n",
        "        return f\"{self.numerator}/{self.denominator}\"\n",
        "\n",
        "# Example usage\n",
        "fraction1 = Fraction(3, 4)\n",
        "fraction2 = Fraction(7, 8)\n",
        "\n",
        "# Printing the fraction objects\n",
        "print(fraction1)\n",
        "print(fraction2)\n"
      ],
      "metadata": {
        "colab": {
          "base_uri": "https://localhost:8080/"
        },
        "id": "Pz6lY8GWKxgK",
        "outputId": "cc9d13f1-337b-4777-ec79-c76b0aafad30"
      },
      "execution_count": 14,
      "outputs": [
        {
          "output_type": "stream",
          "name": "stdout",
          "text": [
            "3/4\n",
            "7/8\n"
          ]
        }
      ]
    },
    {
      "cell_type": "markdown",
      "source": [
        "###10.  Demonstrate operator overloading by creating a class Vector and overriding the add method to add two vectors."
      ],
      "metadata": {
        "id": "1VrauA0PK7jq"
      }
    },
    {
      "cell_type": "code",
      "source": [
        "class Vector:\n",
        "    def __init__(self, x, y):\n",
        "        self.x = x\n",
        "        self.y = y\n",
        "\n",
        "    # Overriding the __add__ method to add two vectors\n",
        "    def __add__(self, other):\n",
        "        # Adding corresponding components of two vectors\n",
        "        return Vector(self.x + other.x, self.y + other.y)\n",
        "\n",
        "    # Overriding __str__ method for easy display of the vector\n",
        "    def __str__(self):\n",
        "        return f\"({self.x}, {self.y})\"\n",
        "\n",
        "# Example usage\n",
        "vector1 = Vector(1, 2)\n",
        "vector2 = Vector(3, 4)\n",
        "\n",
        "# Adding two vectors using the overloaded + operator\n",
        "result = vector1 + vector2\n",
        "\n",
        "# Printing the result\n",
        "print(f\"Sum of vectors: {result}\")"
      ],
      "metadata": {
        "colab": {
          "base_uri": "https://localhost:8080/"
        },
        "id": "DYykuF2TLBIL",
        "outputId": "7ba4dfe9-dd05-4987-d916-28fd7a2461c6"
      },
      "execution_count": 15,
      "outputs": [
        {
          "output_type": "stream",
          "name": "stdout",
          "text": [
            "Sum of vectors: (4, 6)\n"
          ]
        }
      ]
    },
    {
      "cell_type": "markdown",
      "source": [
        "###11.  Create a class Person with attributes name and age. Add a method greet() that prints \"Hello, my name is {name} and I am {age} years old.\"\n",
        "\n",
        "\n"
      ],
      "metadata": {
        "id": "56XEod7nLHyT"
      }
    },
    {
      "cell_type": "code",
      "source": [
        "class Person:\n",
        "    def __init__(self, name, age):\n",
        "        self.name = name\n",
        "        self.age = age\n",
        "\n",
        "    # Method to greet with name and age\n",
        "    def greet(self):\n",
        "        print(f\"Hello, my name is {self.name} and I am {self.age} years old.\")\n",
        "\n",
        "# Example usage\n",
        "person1 = Person(\"Alice\", 30)\n",
        "person2 = Person(\"Bob\", 25)\n",
        "\n",
        "# Calling the greet method for each person\n",
        "person1.greet()\n",
        "person2.greet()\n"
      ],
      "metadata": {
        "colab": {
          "base_uri": "https://localhost:8080/"
        },
        "id": "YVaJJvwRLTuN",
        "outputId": "b3189a3e-8cec-4435-90ba-05be46adbfa5"
      },
      "execution_count": 16,
      "outputs": [
        {
          "output_type": "stream",
          "name": "stdout",
          "text": [
            "Hello, my name is Alice and I am 30 years old.\n",
            "Hello, my name is Bob and I am 25 years old.\n"
          ]
        }
      ]
    },
    {
      "cell_type": "markdown",
      "source": [
        "###12.  Implement a class Student with attributes name and grades. Create a method average_grade() to compute the average of the grades."
      ],
      "metadata": {
        "id": "wRqZwNbvLWqC"
      }
    },
    {
      "cell_type": "code",
      "source": [
        "class Student:\n",
        "    def __init__(self, name, grades):\n",
        "        self.name = name\n",
        "        self.grades = grades\n",
        "\n",
        "    # Method to compute the average grade\n",
        "    def average_grade(self):\n",
        "        if len(self.grades) == 0:\n",
        "            return 0  # To avoid division by zero if there are no grades\n",
        "        return sum(self.grades) / len(self.grades)\n",
        "\n",
        "# Example usage\n",
        "student1 = Student(\"Alice\", [85, 90, 78, 92])\n",
        "student2 = Student(\"Bob\", [70, 75, 80])\n",
        "\n",
        "# Calling the average_grade method for each student\n",
        "print(f\"{student1.name}'s average grade: {student1.average_grade()}\")\n",
        "print(f\"{student2.name}'s average grade: {student2.average_grade()}\")\n"
      ],
      "metadata": {
        "colab": {
          "base_uri": "https://localhost:8080/"
        },
        "id": "25VU5ONDLaNq",
        "outputId": "b77d3e39-8c62-46c8-8f1d-d0d186ba91ac"
      },
      "execution_count": 17,
      "outputs": [
        {
          "output_type": "stream",
          "name": "stdout",
          "text": [
            "Alice's average grade: 86.25\n",
            "Bob's average grade: 75.0\n"
          ]
        }
      ]
    },
    {
      "cell_type": "markdown",
      "source": [
        "###13.  Create a class Rectangle with methods set_dimensions() to set the dimensions and area() to calculate the area."
      ],
      "metadata": {
        "id": "Fg15MJPpLkyi"
      }
    },
    {
      "cell_type": "code",
      "source": [
        "class Rectangle:\n",
        "    def __init__(self):\n",
        "        self.length = 0\n",
        "        self.width = 0\n",
        "\n",
        "    # Method to set the dimensions of the rectangle\n",
        "    def set_dimensions(self, length, width):\n",
        "        self.length = length\n",
        "        self.width = width\n",
        "\n",
        "    # Method to calculate the area of the rectangle\n",
        "    def area(self):\n",
        "        return self.length * self.width\n",
        "\n",
        "# Example usage\n",
        "rect1 = Rectangle()\n",
        "rect2 = Rectangle()\n",
        "\n",
        "# Setting dimensions for rect1 and rect2\n",
        "rect1.set_dimensions(5, 3)\n",
        "rect2.set_dimensions(7, 4)\n",
        "\n",
        "# Calculating and printing the area for each rectangle\n",
        "print(f\"Area of rect1: {rect1.area()}\")\n",
        "print(f\"Area of rect2: {rect2.area()}\")\n"
      ],
      "metadata": {
        "colab": {
          "base_uri": "https://localhost:8080/"
        },
        "id": "5BCbEgskLn9l",
        "outputId": "dbdfe925-abdc-4ad4-bde4-a115837faa7a"
      },
      "execution_count": 18,
      "outputs": [
        {
          "output_type": "stream",
          "name": "stdout",
          "text": [
            "Area of rect1: 15\n",
            "Area of rect2: 28\n"
          ]
        }
      ]
    },
    {
      "cell_type": "markdown",
      "source": [
        "###14. Create a class Employee with a method calculate_salary() that computes the salary based on hours worked and hourly rate. Create a derived class Manager that adds a bonus to the salary."
      ],
      "metadata": {
        "id": "_Fq_W2wdLu-z"
      }
    },
    {
      "cell_type": "code",
      "source": [
        "class Employee:\n",
        "    def __init__(self, name, hours_worked, hourly_rate):\n",
        "        self.name = name\n",
        "        self.hours_worked = hours_worked\n",
        "        self.hourly_rate = hourly_rate\n",
        "\n",
        "    # Method to calculate the salary of an employee\n",
        "    def calculate_salary(self):\n",
        "        return self.hours_worked * self.hourly_rate\n",
        "\n",
        "\n",
        "class Manager(Employee):\n",
        "    def __init__(self, name, hours_worked, hourly_rate, bonus):\n",
        "        super().__init__(name, hours_worked, hourly_rate)  # Call the parent class constructor\n",
        "        self.bonus = bonus\n",
        "\n",
        "    # Overriding the calculate_salary method to include bonus for the Manager\n",
        "    def calculate_salary(self):\n",
        "        base_salary = super().calculate_salary()  # Get the base salary from Employee class\n",
        "        return base_salary + self.bonus\n",
        "\n",
        "\n",
        "# Example usage\n",
        "employee = Employee(\"John\", 40, 15)  # 40 hours at $15/hour\n",
        "manager = Manager(\"Sarah\", 40, 20, 500)  # 40 hours at $20/hour with a $500 bonus\n",
        "\n",
        "# Calculating and printing the salaries\n",
        "print(f\"{employee.name}'s salary: ${employee.calculate_salary()}\")\n",
        "print(f\"{manager.name}'s salary: ${manager.calculate_salary()}\")"
      ],
      "metadata": {
        "colab": {
          "base_uri": "https://localhost:8080/"
        },
        "id": "msvazTOcL6oF",
        "outputId": "70d19724-7e68-4af2-d547-a0a878e503aa"
      },
      "execution_count": 22,
      "outputs": [
        {
          "output_type": "stream",
          "name": "stdout",
          "text": [
            "John's salary: $600\n",
            "Sarah's salary: $1300\n"
          ]
        }
      ]
    },
    {
      "cell_type": "markdown",
      "source": [
        "###15. Create a class Product with attributes name, price, and quantity. Implement a method total_price() that calculates the total price of the product."
      ],
      "metadata": {
        "id": "CR1YolSUMSeD"
      }
    },
    {
      "cell_type": "code",
      "source": [
        "class Product:\n",
        "    def __init__(self, name, price, quantity):\n",
        "        self.name = name\n",
        "        self.price = price\n",
        "        self.quantity = quantity\n",
        "\n",
        "    # Method to calculate the total price of the product\n",
        "    def total_price(self):\n",
        "        return self.price * self.quantity\n",
        "\n",
        "# Example usage\n",
        "product1 = Product(\"Laptop\", 1000, 2)\n",
        "product2 = Product(\"Headphones\", 150, 3)\n",
        "\n",
        "# Calculating and printing the total price for each product\n",
        "print(f\"Total price of {product1.name}: ${product1.total_price()}\")\n",
        "print(f\"Total price of {product2.name}: ${product2.total_price()}\")"
      ],
      "metadata": {
        "colab": {
          "base_uri": "https://localhost:8080/"
        },
        "id": "Obkh_4iMMUz6",
        "outputId": "4618f5fc-18be-42b3-9212-702bf2319ec0"
      },
      "execution_count": 23,
      "outputs": [
        {
          "output_type": "stream",
          "name": "stdout",
          "text": [
            "Total price of Laptop: $2000\n",
            "Total price of Headphones: $450\n"
          ]
        }
      ]
    },
    {
      "cell_type": "markdown",
      "source": [
        "###16. Create a class Animal with an abstract method sound(). Create two derived classes Cow and Sheep that implement the sound() method."
      ],
      "metadata": {
        "id": "N17szkhFMe7i"
      }
    },
    {
      "cell_type": "code",
      "source": [
        "from abc import ABC, abstractmethod\n",
        "\n",
        "# Abstract Base Class\n",
        "class Animal(ABC):\n",
        "    @abstractmethod\n",
        "    def sound(self):\n",
        "        pass\n",
        "\n",
        "# Derived Class Cow\n",
        "class Cow(Animal):\n",
        "    def sound(self):\n",
        "        return \"Moo\"\n",
        "\n",
        "# Derived Class Sheep\n",
        "class Sheep(Animal):\n",
        "    def sound(self):\n",
        "        return \"Baa\"\n",
        "\n",
        "# Example usage\n",
        "cow = Cow()\n",
        "sheep = Sheep()\n",
        "\n",
        "# Calling the sound method for each animal\n",
        "print(f\"Cow sound: {cow.sound()}\")\n",
        "print(f\"Sheep sound: {sheep.sound()}\")\n"
      ],
      "metadata": {
        "colab": {
          "base_uri": "https://localhost:8080/"
        },
        "id": "L6exP4ljMg9G",
        "outputId": "f98b55a0-4343-41c0-8432-6572453c47f6"
      },
      "execution_count": 24,
      "outputs": [
        {
          "output_type": "stream",
          "name": "stdout",
          "text": [
            "Cow sound: Moo\n",
            "Sheep sound: Baa\n"
          ]
        }
      ]
    },
    {
      "cell_type": "markdown",
      "source": [
        "###17. Create a class Book with attributes title, author, and year_published. Add a method get_book_info() that returns a formatted string with the book's details."
      ],
      "metadata": {
        "id": "KkmMcVhuMrib"
      }
    },
    {
      "cell_type": "code",
      "source": [
        "class Book:\n",
        "    def __init__(self, title, author, year_published):\n",
        "        self.title = title\n",
        "        self.author = author\n",
        "        self.year_published = year_published\n",
        "\n",
        "    # Method to return a formatted string with book details\n",
        "    def get_book_info(self):\n",
        "        return f\"Title: {self.title}\\nAuthor: {self.author}\\nYear Published: {self.year_published}\"\n",
        "\n",
        "# Example usage\n",
        "book1 = Book(\"To Kill a Mockingbird\", \"Harper Lee\", 1960)\n",
        "book2 = Book(\"1984\", \"George Orwell\", 1949)\n",
        "\n",
        "# Printing book details using the get_book_info method\n",
        "print(book1.get_book_info())\n",
        "print()\n",
        "print(book2.get_book_info())\n"
      ],
      "metadata": {
        "colab": {
          "base_uri": "https://localhost:8080/"
        },
        "id": "gXNVGvNXMt-O",
        "outputId": "edc08273-9148-4c6c-b304-279093500c90"
      },
      "execution_count": 25,
      "outputs": [
        {
          "output_type": "stream",
          "name": "stdout",
          "text": [
            "Title: To Kill a Mockingbird\n",
            "Author: Harper Lee\n",
            "Year Published: 1960\n",
            "\n",
            "Title: 1984\n",
            "Author: George Orwell\n",
            "Year Published: 1949\n"
          ]
        }
      ]
    },
    {
      "cell_type": "markdown",
      "source": [
        "###18. Create a class House with attributes address and price. Create a derived class Mansion that adds an attribute number_of_rooms."
      ],
      "metadata": {
        "id": "IUQDLpEWM0Fa"
      }
    },
    {
      "cell_type": "code",
      "source": [
        "# Base class\n",
        "class House:\n",
        "    def __init__(self, address, price):\n",
        "        self.address = address\n",
        "        self.price = price\n",
        "\n",
        "    # Method to display house details\n",
        "    def get_details(self):\n",
        "        return f\"Address: {self.address}\\nPrice: ${self.price}\"\n",
        "\n",
        "# Derived class\n",
        "class Mansion(House):\n",
        "    def __init__(self, address, price, number_of_rooms):\n",
        "        super().__init__(address, price)  # Call the parent class constructor\n",
        "        self.number_of_rooms = number_of_rooms\n",
        "\n",
        "    # Method to display mansion details\n",
        "    def get_details(self):\n",
        "        base_details = super().get_details()  # Get details from the base class\n",
        "        return f\"{base_details}\\nNumber of Rooms: {self.number_of_rooms}\"\n",
        "\n",
        "# Example usage\n",
        "house = House(\"123 Main St, Springfield\", 300000)\n",
        "mansion = Mansion(\"456 Luxury Ave, Beverly Hills\", 5000000, 10)\n",
        "\n",
        "# Displaying details of the house and mansion\n",
        "print(house.get_details())\n",
        "print()\n",
        "print(mansion.get_details())\n"
      ],
      "metadata": {
        "colab": {
          "base_uri": "https://localhost:8080/"
        },
        "id": "L9V7SvcUM4N9",
        "outputId": "f7e19153-4778-46c0-dad4-cfe0b45abbf3"
      },
      "execution_count": 26,
      "outputs": [
        {
          "output_type": "stream",
          "name": "stdout",
          "text": [
            "Address: 123 Main St, Springfield\n",
            "Price: $300000\n",
            "\n",
            "Address: 456 Luxury Ave, Beverly Hills\n",
            "Price: $5000000\n",
            "Number of Rooms: 10\n"
          ]
        }
      ]
    }
  ]
}